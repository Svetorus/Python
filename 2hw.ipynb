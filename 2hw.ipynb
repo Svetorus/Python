{
 "cells": [
  {
   "cell_type": "code",
   "execution_count": 1,
   "metadata": {},
   "outputs": [],
   "source": [
    "import pickle\n",
    "import chardet\n",
    "import json\n",
    "import csv\n",
    "import yaml"
   ]
  },
  {
   "cell_type": "markdown",
   "metadata": {},
   "source": [
    "### 1. \n",
    "Задание на закрепление знаний по модулю CSV. Написать скрипт, осуществляющий выборку определенных данных из файлов info_1.txt, info_2.txt, info_3.txt \n",
    "и формирующий новый 'отчетный' файл в формате CSV.\n",
    "\n",
    "1.1\n",
    "Создать функцию get_data(), в которой в цикле осуществляется перебор файлов с данными, их открытие и считывание данных. В этой функции из считанных данных необходимо с помощью регулярных выражений извлечь значения параметров «Изготовитель системы», «Название ОС», «Код продукта», «Тип системы». Значения каждого параметра поместить в соответствующий список. Должно получиться четыре списка — например, os_prod_list, os_name_list, os_code_list, os_type_list. В этой же функции создать главный список для хранения данных отчета — например, main_data — и поместить в него названия столбцов отчета в виде списка: «Изготовитель системы», «Название ОС», «Код продукта», «Тип системы». Значения для этих столбцов также оформить в виде списка и поместить в файл main_data (также для каждого файла);\n",
    "\n",
    "1.2\n",
    "Создать функцию write_to_csv(), в которую передавать ссылку на CSV-файл. В этой функции реализовать получение данных через вызов функции get_data(), а также сохранение подготовленных данных в соответствующий CSV-файл;\n",
    "\n",
    "1.3\n",
    "\n",
    "Проверить работу программы через вызов функции write_to_csv()."
   ]
  },
  {
   "cell_type": "code",
   "execution_count": 1,
   "metadata": {},
   "outputs": [],
   "source": [
    "import re\n",
    "\n",
    "def splinter(row):\n",
    "    row = re.sub(' +', ' ', row)\n",
    "    return row.split(': ')[1]\n",
    "\n",
    "\n",
    "def get_data(lines, headers):\n",
    "    res = []\n",
    "    count = 0\n",
    "    for header in headers:\n",
    "        for line in lines:\n",
    "            if header in line:\n",
    "                res.append(splinter(line))\n",
    "        count += 1\n",
    "    return res\n",
    "\n",
    "\n",
    "def read_file_lines(filename):\n",
    "    with open(filename) as f:\n",
    "        return f.read().split('\\n')\n",
    "\n",
    "\n",
    "def write_to_csv(filename, headers, data):\n",
    "    with open(filename, \"w\") as f:\n",
    "        f.write(\",\".join(headers) + \"\\n\")\n",
    "        for line in data:\n",
    "            f.write(\",\".join(line) + \"\\n\")\n",
    "\n",
    "\n",
    "headers = ['Изготовитель системы', 'Название ОС', 'Код продукта', 'Тип системы']\n",
    "# print(headers)\n",
    "\n",
    "data = []\n",
    "for file in [f'info_{number}.txt' for number in range(1, 4)]:\n",
    "    data.append(get_data(read_file_lines(file), headers))\n",
    "\n",
    "write_to_csv(\"main_data.csv\", headers, data)"
   ]
  },
  {
   "cell_type": "markdown",
   "metadata": {},
   "source": [
    "### 2. \n",
    "Задание  на закрепление знаний по модулю json. Есть файл orders в формате JSON с информацией о заказах. Написать скрипт, автоматизирующий его выпонение данными.\n",
    "\n",
    "2.1\n",
    "Создать функцию write_order_to_json(), в которую передается 5 параметров — товар (item), количество (quantity), цена (price), покупатель (buyer), дата (date). Функция должна предусматривать запись данных в виде словаря в файл orders.json. При записи данных указать величину отступа в 4 пробельных символа;\n",
    "\n",
    "2.2\n",
    "Проверить работу программы через вызов функции write_order_to_json() с передачей в нее значений каждого параметра."
   ]
  },
  {
   "cell_type": "code",
   "execution_count": null,
   "metadata": {},
   "outputs": [],
   "source": [
    "def write_order_to_json(filename):\n",
    "    with open(filename) as f:\n",
    "        data = json.loads(f.read())\n",
    "    while True:\n",
    "\n",
    "\n",
    "        a = int(input(\"Continue? 1/0\"))\n",
    "        if a == 0:\n",
    "            break\n",
    "\n",
    "        d = {}\n",
    "\n",
    "        d['item'] = input(\"Input item: \")\n",
    "        d['quantity'] = input(\"Input quantity: \")\n",
    "        d['price'] = input(\"Input price: \")\n",
    "        d['buyer'] = input(\"Input buyer: \")\n",
    "        d['date'] = input(\"Input date: \")\n",
    "\n",
    "        data[\"orders\"].append(d)\n",
    "\n",
    "\n",
    "    with open(filename, \"w\") as f:\n",
    "        json.dump(data, f, sort_keys=True, indent=4)\n",
    "        \n",
    "write_order_to_json(\"orders.json\")"
   ]
  },
  {
   "cell_type": "markdown",
   "metadata": {},
   "source": [
    "### 3. \n",
    "Задание на закрепление знаний по модулю YAML. Написать скрипт, автоматизирующий сохранение данных в файле YAML-формата.\n",
    "\n",
    "3.1\n",
    "Подготовить данные для записи в виде словаря, в котором первому ключу соответствует список, второму — целое число, третьему — вложенный словарь, где значение каждого ключа — это целое число с юникод-символом, отсутствующим в кодировке ASCII (например, €);\n",
    "\n",
    "3.2\n",
    "Реализовать сохранение данных в файл формата YAML — например, в файл file.yaml. При этом обеспечить стилизацию файла с помощью параметра default_flow_style, а также установить возможность работы с юникодом: allow_unicode = True;\n",
    "\n",
    "3.3\n",
    "Реализовать считывание данных из созданного файла и проверить, совпадают ли они с исходными."
   ]
  },
  {
   "cell_type": "code",
   "execution_count": null,
   "metadata": {},
   "outputs": [],
   "source": [
    "alibra = {\"93к\": [1, 2, 3], \"54в\": 234, \"32ф\": {\"544\":\"4343\"}}\n",
    "\n",
    "with open('users.yaml', 'w') as f:\n",
    "    data = yaml.dump(alibra, f, default_flow_style=False, allow_unicode=True)\n",
    "\n",
    "with open('users.yaml') as f:\n",
    "    data = yaml.load(f, Loader=yaml.FullLoader)\n",
    "    print(data)"
   ]
  }
 ],
 "metadata": {
  "kernelspec": {
   "display_name": "Python 3",
   "language": "python",
   "name": "python3"
  },
  "language_info": {
   "codemirror_mode": {
    "name": "ipython",
    "version": 3
   },
   "file_extension": ".py",
   "mimetype": "text/x-python",
   "name": "python",
   "nbconvert_exporter": "python",
   "pygments_lexer": "ipython3",
   "version": "3.7.3"
  }
 },
 "nbformat": 4,
 "nbformat_minor": 2
}
